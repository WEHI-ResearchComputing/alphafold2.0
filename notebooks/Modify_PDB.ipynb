{
 "cells": [
  {
   "cell_type": "markdown",
   "id": "41a6c987",
   "metadata": {},
   "source": [
    " # Notebook to add plddt results (b-factor) into pdb file\n",
    " \n",
    " To run, you need to do the following\n",
    " \n",
    " * Change output_dir to path of the output folder used when running AF2\n",
    " * Change models to the list of model names you used in AF2\n",
    " * If not installed before, you will need to install pickle `pip install pickle5` or through conda `conda install -c conda-forge pickle5`\n",
    "\n",
    " \n",
    " "
   ]
  },
  {
   "cell_type": "code",
   "execution_count": 1,
   "id": "3962cedd",
   "metadata": {},
   "outputs": [],
   "source": [
    "output_dir=\"/stornext/HPCScratch/home/iskander.j/AF/output/query_colab\"\n",
    "models=['model_1']\n"
   ]
  },
  {
   "cell_type": "code",
   "execution_count": 2,
   "id": "b7aeebcd",
   "metadata": {},
   "outputs": [],
   "source": [
    "def set_bfactor(ip,op, bfac):\n",
    "    I = open(ip,\"r\").readlines()\n",
    "    O = open(op,\"w\")\n",
    "    for line in I:\n",
    "        if line[0:6] == \"ATOM  \":\n",
    "            seq_id = int(line[22:26].strip()) - 1\n",
    "            O.write(f\"{line[:60]}{bfac[seq_id]:6.2f}{line[66:]}\")\n",
    "    O.close()"
   ]
  },
  {
   "cell_type": "code",
   "execution_count": 3,
   "id": "9505927e",
   "metadata": {},
   "outputs": [],
   "source": [
    "import os\n",
    "import pickle\n",
    "\n",
    "for m in models:\n",
    "    pdb_ip=os.path.join(output_dir, f'relaxed_{m}.pdb')\n",
    "    pdb_op=os.path.join(output_dir, f'relaxed_{m}_modified.pdb')\n",
    "\n",
    "    results = pickle.load(open(os.path.join(output_dir,f'result_{m}.pkl'), 'rb'))\n",
    "    set_bfactor(pdb_ip,pdb_op, results['plddt'])"
   ]
  },
  {
   "cell_type": "code",
   "execution_count": null,
   "id": "63dcdb44",
   "metadata": {},
   "outputs": [],
   "source": []
  }
 ],
 "metadata": {
  "kernelspec": {
   "display_name": "Python (slurm-env)",
   "language": "python",
   "name": "slurm-env"
  },
  "language_info": {
   "codemirror_mode": {
    "name": "ipython",
    "version": 3
   },
   "file_extension": ".py",
   "mimetype": "text/x-python",
   "name": "python",
   "nbconvert_exporter": "python",
   "pygments_lexer": "ipython3",
   "version": "3.8.5"
  }
 },
 "nbformat": 4,
 "nbformat_minor": 5
}
